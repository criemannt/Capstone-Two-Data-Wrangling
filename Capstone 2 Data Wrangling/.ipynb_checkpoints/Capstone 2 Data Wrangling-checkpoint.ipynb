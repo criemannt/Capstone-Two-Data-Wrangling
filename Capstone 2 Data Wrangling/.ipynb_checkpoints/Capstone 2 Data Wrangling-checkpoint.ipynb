{
 "cells": [
  {
   "cell_type": "code",
   "execution_count": null,
   "id": "4d9ed6bf",
   "metadata": {},
   "outputs": [],
   "source": [
    "from bs4 import BeautifulSoup\n",
    "import pandas as pd\n",
    "import matplotlib.pyplot as plt\n",
    "import seaborn as sns\n",
    "import os\n",
    "import requests"
   ]
  },
  {
   "cell_type": "code",
   "execution_count": null,
   "id": "4880173c",
   "metadata": {},
   "outputs": [],
   "source": [
    "#import csv data from 2020 to 2024\n",
    "nba_data2023_2024 = pd.read_csv('nba2023-2024.csv', encoding='latin1', sep=';')\n",
    "nba_data2022_2023 = pd.read_csv('nba2022-2023.csv', encoding='latin1', sep=';')\n",
    "nba_data2021_2022 = pd.read_csv('nba2021-2022.csv', encoding='latin1', sep=';')\n",
    "print(nba_data2023_2024.info())\n",
    "print(nba_data2022_2023.info())\n",
    "print(nba_data2021_2022.info())\n",
    "#i have to deal with season 2020-2021 and season 2019-20 differently as data is in a different format"
   ]
  },
  {
   "cell_type": "code",
   "execution_count": null,
   "id": "c203978b",
   "metadata": {
    "scrolled": false
   },
   "outputs": [],
   "source": [
    "#spliting columns and assigning the names as the original data didn't include headeers\n",
    "nba_data2020_2021 = pd.read_csv('nba2020-2021.csv', encoding='latin1', sep=';', header=None)\n",
    "nba_data2020_2021 = nba_data2020_2021[0].str.split(',', expand=True)\n",
    "nba_data2020_2021.columns = [\n",
    "    'Player', 'Pos', 'Age', 'Tm', 'G', 'GS', 'MP', 'FG', 'FGA', 'FG%', '3P', '3PA', '3P%', \n",
    "    '2P', '2PA', '2P%', 'eFG%', 'FT', 'FTA', 'FT%', 'ORB', 'DRB', 'TRB', 'AST', 'STL', \n",
    "    'BLK', 'TOV', 'PF', 'PTS'\n",
    "]\n",
    "#converting columns that contain numeric data into numeric format\n",
    "numeric_columns = [\n",
    "    'Age', 'G', 'GS', 'MP', 'FG', 'FGA', 'FG%', '3P', '3PA', '3P%', '2P', '2PA', '2P%', \n",
    "    'eFG%', 'FT', 'FTA', 'FT%', 'ORB', 'DRB', 'TRB', 'AST', 'STL', 'BLK', 'TOV', 'PF', 'PTS'\n",
    "]\n",
    "nba_data2020_2021[numeric_columns] = nba_data2020_2021[numeric_columns].apply(pd.to_numeric, errors='coerce')\n",
    "nba_data2020_2021_cleaned = nba_data2020_2021.drop(index=0).reset_index(drop=True)\n",
    "print(nba_data2020_2021_cleaned.head())\n",
    "print(nba_data2020_2021_cleaned.info())"
   ]
  },
  {
   "cell_type": "code",
   "execution_count": null,
   "id": "eb534cda",
   "metadata": {
    "scrolled": false
   },
   "outputs": [],
   "source": [
    "#data scrapping season 2019-2020\n",
    "def scrape_team_per_game(team_initial):\n",
    "    url = f\"https://www.basketball-reference.com/teams/{team_initial}/2020.html#all_per_game-playoffs_per_game\"\n",
    "    response = requests.get(url)\n",
    "    soup = BeautifulSoup(response.content, 'html.parser')\n",
    "    \n",
    "    table = soup.find('table', {'id':'per_game'})\n",
    "    headers = [th.text for th in table.find('thead').find_all('th')]\n",
    "    rows = table.find('tbody').find_all('tr')\n",
    "    data =[]\n",
    "    for row in rows:\n",
    "        cells = row.find_all('td')\n",
    "        cells = [cell.text.strip() for cell in cells]\n",
    "        data.append(cells)\n",
    "    df = pd.DataFrame(data, columns=headers[1:])  #skipping the first header which is the rank column\n",
    "    df['Team'] = team_initial  \n",
    "\n",
    "    return df\n",
    "#listing the initials of each team to put in the url\n",
    "teams = [\n",
    "    \"MIL\", \"ATL\", \"BOS\", \"BRK\", \"CHO\", \"CHI\", \"CLE\", \"DAL\", \"DEN\", \"DET\",\n",
    "    \"GSW\", \"HOU\", \"IND\", \"LAC\", \"LAL\", \"MEM\", \"MIA\", \"MIN\", \"NOP\", \"NYK\",\n",
    "    \"OKC\", \"ORL\", \"PHI\", \"PHO\", \"POR\", \"SAC\", \"SAS\", \"TOR\", \"UTA\", \"WAS\"\n",
    "]\n",
    "nba_data2019_2020 = pd.DataFrame()\n",
    "for team in teams:\n",
    "    team_data = scrape_team_per_game(team)\n",
    "    if not team_data.empty:\n",
    "        nba_data2019_2020 = pd.concat([nba_data2019_2020, team_data], ignore_index=True)\n",
    "print(nba_data2019_2020.info())\n",
    "print(nba_data2019_2020.head())"
   ]
  },
  {
   "cell_type": "code",
   "execution_count": null,
   "id": "2272af02",
   "metadata": {},
   "outputs": [],
   "source": [
    "print(nba_data2019_2020.columns)"
   ]
  },
  {
   "cell_type": "code",
   "execution_count": null,
   "id": "ce0b613a",
   "metadata": {
    "scrolled": true
   },
   "outputs": [],
   "source": [
    "#changing columns that are numeric to numeric type\n",
    "nba_data2019_2020.columns = [\n",
    "    'Player', 'Age', 'G', 'GS', 'MP', 'FG', 'FGA', 'FG%', '3P', '3PA', \n",
    "    '3P%', '2P', '2PA', '2P%', 'eFG%', 'FT', 'FTA', 'FT%', 'ORB', 'DRB', \n",
    "    'TRB', 'AST', 'STL', 'BLK', 'TOV', 'PF', 'PTS', 'Team'\n",
    "]\n",
    "numeric_columns = [\n",
    "    'Age', 'G', 'GS', 'MP', 'FG', 'FGA', 'FG%', '3P', '3PA', '3P%', '2P', '2PA', '2P%', \n",
    "    'eFG%', 'FT', 'FTA', 'FT%', 'ORB', 'DRB', 'TRB', 'AST', 'STL', 'BLK', 'TOV', 'PF', 'PTS'\n",
    "]\n",
    "nba_data2019_2020[numeric_columns] = nba_data2019_2020[numeric_columns].apply(pd.to_numeric, errors='coerce')\n",
    "nba_data2019_2020_cleaned = nba_data2019_2020.drop(index=0).reset_index(drop=True)\n",
    "print(nba_data2019_2020_cleaned.head())\n",
    "print(nba_data2019_2020_cleaned.info())"
   ]
  },
  {
   "cell_type": "code",
   "execution_count": null,
   "id": "b24c7bf7",
   "metadata": {
    "scrolled": false
   },
   "outputs": [],
   "source": [
    "#looking for data that is missing values, to check why they are missing on the original webpage\n",
    "missing_data_rows = nba_data2019_2020_cleaned[\n",
    "    nba_data2019_2020_cleaned['3P%'].isna() |\n",
    "    nba_data2019_2020_cleaned['eFG%'].isna() |\n",
    "    nba_data2019_2020_cleaned['FT%'].isna() |\n",
    "    nba_data2019_2020_cleaned['FG%'].isna()\n",
    "]\n",
    "\n",
    "print(missing_data_rows)\n",
    "#data is missing because they didn't attempt any FT (e.g. if FT is 0, FT% is empty)"
   ]
  },
  {
   "cell_type": "code",
   "execution_count": null,
   "id": "747dc255",
   "metadata": {},
   "outputs": [],
   "source": [
    "#filling empty data with 0, as this is the true value\n",
    "nba_data2019_2020_cleaned['FT%'].fillna(0, inplace=True)\n",
    "nba_data2019_2020_cleaned['3P%'].fillna(0, inplace=True)\n",
    "nba_data2019_2020_cleaned['FG%'].fillna(0, inplace=True)\n",
    "nba_data2019_2020_cleaned['eFG%'].fillna(0, inplace=True)\n",
    "nba_data2019_2020_cleaned['2P%'].fillna(0, inplace=True)\n",
    "print(nba_data2019_2020_cleaned.info())"
   ]
  },
  {
   "cell_type": "code",
   "execution_count": null,
   "id": "80ab7039",
   "metadata": {
    "scrolled": false
   },
   "outputs": [],
   "source": [
    "#check data again before concatenating\n",
    "print(nba_data2019_2020_cleaned.head()) #no rank column, only need to change team to tm, no Pos column\n",
    "print(nba_data2019_2020_cleaned.info())\n",
    "print(nba_data2020_2021_cleaned.head()) #no rank column\n",
    "print(nba_data2020_2021_cleaned.info())\n",
    "print(nba_data2021_2022.head()) #need to drop rank column\n",
    "print(nba_data2021_2022.info())\n",
    "print(nba_data2022_2023.head()) #need to drop rank column\n",
    "print(nba_data2022_2023.info())\n",
    "print(nba_data2023_2024.head()) #need to drop rank column\n",
    "print(nba_data2023_2024.info())"
   ]
  },
  {
   "cell_type": "code",
   "execution_count": null,
   "id": "b9b92bb1",
   "metadata": {},
   "outputs": [],
   "source": [
    "#drop rank column as it doesen't contribute anything for the project, basically the same as an index\n",
    "def drop_rk_column(df):\n",
    "    if 'Rk' in df.columns:\n",
    "        df = df.drop(columns=['Rk'])\n",
    "    return df\n",
    "nba_data2021_2022 = drop_rk_column(nba_data2021_2022)\n",
    "nba_data2022_2023 = drop_rk_column(nba_data2022_2023)\n",
    "nba_data2023_2024 = drop_rk_column(nba_data2023_2024)\n",
    "#changing Team column to Tm for later concatenation\n",
    "def standardize_column_names(df):\n",
    "    df = df.rename(columns={'Team': 'Tm'})\n",
    "    return df\n",
    "nba_data2019_2020_cleaned = standardize_column_names(nba_data2019_2020_cleaned)"
   ]
  },
  {
   "cell_type": "code",
   "execution_count": null,
   "id": "ac514e1b",
   "metadata": {},
   "outputs": [],
   "source": [
    "# check for NaN in each years Pos column\n",
    "def check_pos_nans(dataframe, year_label):\n",
    "    if 'Pos' in dataframe.columns:\n",
    "        nan_count = dataframe['Pos'].isna().sum()\n",
    "    else:\n",
    "        print(f\"No 'Pos' column found in the {year_label} dataset.\")\n",
    "    \n",
    "check_pos_nans(nba_data2019_2020_cleaned, '2019-2020')\n",
    "check_pos_nans(nba_data2020_2021_cleaned, '2020-2021')\n",
    "check_pos_nans(nba_data2021_2022, '2021-2022')\n",
    "check_pos_nans(nba_data2022_2023, '2022-2023')\n",
    "check_pos_nans(nba_data2023_2024, '2023-2024')"
   ]
  },
  {
   "cell_type": "code",
   "execution_count": null,
   "id": "e09968c5",
   "metadata": {},
   "outputs": [],
   "source": [
    "nba_data2019_2020_cleaned['Season'] = '2019-2020'\n",
    "nba_data2020_2021_cleaned['Season'] = '2020-2021'\n",
    "nba_data2021_2022['Season'] = '2021-2022'\n",
    "nba_data2022_2023['Season'] = '2022-2023'\n",
    "nba_data2023_2024['Season'] = '2023-2024'"
   ]
  },
  {
   "cell_type": "code",
   "execution_count": null,
   "id": "57ab934a",
   "metadata": {},
   "outputs": [],
   "source": [
    "#combine datasets with the Pos column to create a mapping for the year 2019-2020\n",
    "datasets = [nba_data2020_2021_cleaned, nba_data2021_2022, nba_data2022_2023, nba_data2023_2024]\n",
    "combined_datasets = pd.concat(datasets)"
   ]
  },
  {
   "cell_type": "code",
   "execution_count": null,
   "id": "95150c06",
   "metadata": {},
   "outputs": [],
   "source": [
    "#creating a map and filling positions in 2019-2020\n",
    "position_mapping = combined_datasets.groupby('Player')['Pos'].agg(lambda x: x.mode().dropna().iloc[0] if not x.mode().empty else np.nan).dropna()\n",
    "nba_data2019_2020_cleaned['Pos'] = nba_data2019_2020_cleaned['Player'].map(position_mapping)\n",
    "#check how many positions are filled\n",
    "filled_positions_count = nba_data2019_2020_cleaned['Pos'].notna().sum()\n",
    "print(f\"Filled positions in 2019-2020 dataset: {filled_positions_count}\")"
   ]
  },
  {
   "cell_type": "code",
   "execution_count": null,
   "id": "1ee7b865",
   "metadata": {},
   "outputs": [],
   "source": [
    "#change NaNs to Unknown and check if data is now complete for concatenation\n",
    "nba_data2019_2020_cleaned['Pos'].fillna('Unknown', inplace=True)\n",
    "print(nba_data2019_2020_cleaned.info())"
   ]
  },
  {
   "cell_type": "code",
   "execution_count": null,
   "id": "421d3943",
   "metadata": {},
   "outputs": [],
   "source": [
    "#concatenating all the data\n",
    "nba_data_all_years = pd.concat([\n",
    "    nba_data2019_2020_cleaned, \n",
    "    nba_data2020_2021_cleaned, \n",
    "    nba_data2021_2022, \n",
    "    nba_data2022_2023, \n",
    "    nba_data2023_2024\n",
    "])\n",
    "print(nba_data_all_years.head()) \n",
    "print(nba_data_all_years.info())"
   ]
  },
  {
   "cell_type": "code",
   "execution_count": null,
   "id": "a705697e",
   "metadata": {},
   "outputs": [],
   "source": [
    "# Filter players who appear in all 5 seasons\n",
    "players_in_all_seasons = nba_data_all_years.groupby('Player')['Season'].nunique()\n",
    "\n",
    "# Keep only players who have appeared in exactly 5 unique seasons\n",
    "players_in_all_seasons = players_in_all_seasons[players_in_all_seasons == 5].index\n",
    "\n",
    "# Filter the original DataFrame to keep only these players\n",
    "nba_filtered = nba_data_all_years[nba_data_all_years['Player'].isin(players_in_all_seasons)]\n",
    "\n",
    "# Display the filtered DataFrame\n",
    "nba_filtered.head()\n",
    "nba_filtered.info()"
   ]
  },
  {
   "cell_type": "code",
   "execution_count": null,
   "id": "07b8b713",
   "metadata": {},
   "outputs": [],
   "source": [
    "#export the data for EDA\n",
    "nba_filtered.to_excel('EDA project1.xlsx', index=False)"
   ]
  },
  {
   "cell_type": "code",
   "execution_count": null,
   "id": "0140bae2",
   "metadata": {},
   "outputs": [],
   "source": [
    "# Group by Player and Season, and calculate the mean of the relevant stats\n",
    "df_grouped = nba_filtered.groupby(['Player', 'Season']).agg({\n",
    "    'Age': 'first',  # Age will remain the same for a season\n",
    "    'G': 'mean',     # Mean of games played\n",
    "    'GS': 'mean',    # Mean of games started\n",
    "    'MP': 'mean',    # Mean of minutes played\n",
    "    'FG': 'mean',\n",
    "    'FGA': 'mean',\n",
    "    'FG%': 'mean',\n",
    "    '3P': 'mean',\n",
    "    '3PA': 'mean',\n",
    "    '3P%': 'mean',\n",
    "    '2P': 'mean',\n",
    "    '2PA': 'mean',\n",
    "    '2P%': 'mean',\n",
    "    'eFG%': 'mean',\n",
    "    'FT': 'mean',\n",
    "    'FTA': 'mean',\n",
    "    'FT%': 'mean',\n",
    "    'ORB': 'mean',\n",
    "    'DRB': 'mean',\n",
    "    'TRB': 'mean',\n",
    "    'AST': 'mean',\n",
    "    'STL': 'mean',\n",
    "    'BLK': 'mean',\n",
    "    'TOV': 'mean',\n",
    "    'PF': 'mean',\n",
    "    'PTS': 'mean',\n",
    "    'Tm': lambda x: ','.join(x.unique()),  # Concatenate unique team initials\n",
    "    'Pos': 'first'   # Position will remain the same\n",
    "}).reset_index()\n",
    "\n",
    "# Display the result\n",
    "df_grouped.head()\n"
   ]
  },
  {
   "cell_type": "code",
   "execution_count": null,
   "id": "1d138ed8",
   "metadata": {},
   "outputs": [],
   "source": [
    "# First, filter the DataFrame to include only the relevant seasons\n",
    "filtered_df = df_grouped[df_grouped['Season'].isin(['2023-2024', '2022-2023', '2021-2022'])]\n",
    "\n",
    "# Create a copy of the DataFrame sorted by Player and Season to apply the shift function\n",
    "sorted_df = df_grouped.sort_values(['Player', 'Season']).copy()\n",
    "\n",
    "# Define the columns that you want to apply the lead/lag to (excluding 'Player', 'Season', 'Tm', 'Pos')\n",
    "columns_to_shift = ['Age', 'G', 'GS', 'MP', 'FG', 'FGA', 'FG%', '3P', '3PA', '3P%', '2P', '2PA', '2P%', 'eFG%', 'FT', 'FTA', 'FT%', 'ORB', 'DRB', 'TRB', 'AST', 'STL', 'BLK', 'TOV', 'PF', 'PTS']\n",
    "\n",
    "# Create shifted columns for the last year and the year before last\n",
    "for col in columns_to_shift:\n",
    "    # Shift by 1 for last year\n",
    "    sorted_df[f'{col}_last_year'] = sorted_df.groupby('Player')[col].shift(1)\n",
    "    # Shift by 2 for the year before last\n",
    "    sorted_df[f'{col}_year_before_last'] = sorted_df.groupby('Player')[col].shift(2)\n",
    "\n",
    "# Now add the 'points_scored_next_year' from the 2023-2024 season\n",
    "sorted_df['Points_scored_next_season'] = sorted_df.groupby('Player')['PTS'].shift(-1)\n",
    "\n",
    "# Filter the DataFrame again to include only seasons 2023-2024, 2022-2023, and 2021-2022\n",
    "final_df = sorted_df[sorted_df['Season'].isin(['2023-2024', '2022-2023', '2021-2022'])]\n",
    "\n",
    "# Display the final DataFrame with the new columns\n",
    "final_df.head(10)"
   ]
  },
  {
   "cell_type": "code",
   "execution_count": null,
   "id": "61174225",
   "metadata": {},
   "outputs": [],
   "source": [
    "column_order = ['Player', \n",
    "                'Age', 'Age_last_year', 'Age_year_before_last',\n",
    "                'G', 'G_last_year', 'G_year_before_last',\n",
    "                'GS', 'GS_last_year', 'GS_year_before_last',\n",
    "                'MP', 'MP_last_year', 'MP_year_before_last',\n",
    "                'FG', 'FG_last_year', 'FG_year_before_last',\n",
    "                'FGA', 'FGA_last_year', 'FGA_year_before_last',\n",
    "                'FG%', 'FG%_last_year', 'FG%_year_before_last',\n",
    "                '3P', '3P_last_year', '3P_year_before_last',\n",
    "                '3PA', '3PA_last_year', '3PA_year_before_last',\n",
    "                '3P%', '3P%_last_year', '3P%_year_before_last',\n",
    "                '2P', '2P_last_year', '2P_year_before_last',\n",
    "                '2PA', '2PA_last_year', '2PA_year_before_last',\n",
    "                '2P%', '2P%_last_year', '2P%_year_before_last',\n",
    "                'eFG%', 'eFG%_last_year', 'eFG%_year_before_last',\n",
    "                'FT', 'FT_last_year', 'FT_year_before_last',\n",
    "                'FTA', 'FTA_last_year', 'FTA_year_before_last',\n",
    "                'FT%', 'FT%_last_year', 'FT%_year_before_last',\n",
    "                'ORB', 'ORB_last_year', 'ORB_year_before_last',\n",
    "                'DRB', 'DRB_last_year', 'DRB_year_before_last',\n",
    "                'TRB', 'TRB_last_year', 'TRB_year_before_last',\n",
    "                'AST', 'AST_last_year', 'AST_year_before_last',\n",
    "                'STL', 'STL_last_year', 'STL_year_before_last',\n",
    "                'BLK', 'BLK_last_year', 'BLK_year_before_last',\n",
    "                'TOV', 'TOV_last_year', 'TOV_year_before_last',\n",
    "                'PF', 'PF_last_year', 'PF_year_before_last',\n",
    "                'PTS', 'PTS_last_year', 'PTS_year_before_last', 'Points_scored_next_season',\n",
    "                'Tm', 'Season', 'Pos']\n",
    "final_df = final_df[column_order]\n",
    "\n",
    "final_df = final_df.round(2)\n",
    "\n",
    "final_df_without_2023 = final_df[final_df['Season'] != '2023-2024']"
   ]
  },
  {
   "cell_type": "code",
   "execution_count": null,
   "id": "f38965db",
   "metadata": {},
   "outputs": [],
   "source": [
    "positions = set([pos for sublist in final_df_without_2023['Pos'].str.split('-') for pos in sublist])\n",
    "\n",
    "# Create a binary column for each unique position using .loc to avoid the SettingWithCopyWarning\n",
    "for position in positions:\n",
    "    final_df_without_2023.loc[:, position] = final_df_without_2023['Pos'].apply(lambda x: 1 if position in x.split('-') else 0)\n",
    "\n",
    "# Display the first few rows of the modified dataframe\n",
    "final_df_without_2023.head()"
   ]
  },
  {
   "cell_type": "code",
   "execution_count": null,
   "id": "8942a6e8",
   "metadata": {
    "scrolled": true
   },
   "outputs": [],
   "source": [
    "final_df_without_2023.drop(columns=['Pos'])\n",
    "\n",
    "cols = list(final_df_without_2023.columns)\n",
    "\n",
    "#move PF to the back of the DF\n",
    "cols.remove('PF')\n",
    "\n",
    "cols.append('PF')\n",
    "\n",
    "# Reorder the dataframe columns\n",
    "final_df_without_2023 = final_df_without_2023[cols]\n",
    "\n",
    "# Display the first few rows of the modified dataframe\n",
    "final_df_without_2023.head()"
   ]
  },
  {
   "cell_type": "code",
   "execution_count": null,
   "id": "20b9bfcb",
   "metadata": {},
   "outputs": [],
   "source": [
    "#export the data for EDA\n",
    "final_df_without_2023.to_excel('DataWrangling2.0.xlsx', index=False)"
   ]
  },
  {
   "cell_type": "code",
   "execution_count": null,
   "id": "81e29e3c",
   "metadata": {},
   "outputs": [],
   "source": []
  }
 ],
 "metadata": {
  "kernelspec": {
   "display_name": "Python 3 (ipykernel)",
   "language": "python",
   "name": "python3"
  },
  "language_info": {
   "codemirror_mode": {
    "name": "ipython",
    "version": 3
   },
   "file_extension": ".py",
   "mimetype": "text/x-python",
   "name": "python",
   "nbconvert_exporter": "python",
   "pygments_lexer": "ipython3",
   "version": "3.11.7"
  }
 },
 "nbformat": 4,
 "nbformat_minor": 5
}
